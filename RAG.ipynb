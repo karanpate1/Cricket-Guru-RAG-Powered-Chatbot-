{
 "cells": [
  {
   "cell_type": "code",
   "execution_count": 1,
   "id": "46c4a52d",
   "metadata": {},
   "outputs": [],
   "source": [
    "import os\n",
    "import gradio as gr\n",
    "from dotenv import load_dotenv\n",
    "import glob\n",
    "import numpy as np\n"
   ]
  },
  {
   "cell_type": "code",
   "execution_count": null,
   "id": "6540b31e",
   "metadata": {},
   "outputs": [],
   "source": [
    "from langchain.document_loaders import DirectoryLoader, TextLoader\n",
    "from langchain.text_splitter import CharacterTextSplitter\n",
    "from langchain.schema import Document\n",
    "from langchain_google_genai import GoogleGenerativeAIEmbeddings\n",
    "from langchain_chroma import Chroma\n",
    "import numpy as np\n",
    "from sklearn.manifold import TSNE  #algorithm for dimensionality reduction\n",
    "import plotly.graph_objects as go\n",
    "from langchain.memory import ConversationBufferMemory     \n",
    "from langchain.chains import ConversationalRetrievalChain"
   ]
  },
  {
   "cell_type": "code",
   "execution_count": 3,
   "id": "40932c70",
   "metadata": {},
   "outputs": [],
   "source": [
    "# price is a factor for our company, so we're going to use a low cost model\n",
    "\n",
    "MODEL = \"geminigemini-2.5-flash\"\n",
    "db_name = \"vector_db\"\n"
   ]
  },
  {
   "cell_type": "code",
   "execution_count": 4,
   "id": "7dc285a1",
   "metadata": {},
   "outputs": [],
   "source": [
    "load_dotenv(override=True)\n",
    "os.environ['GEMINI_API_KEY'] = os.getenv('GEMINI_API_KEY')\n",
    "os.environ['GOOGLE_API_KEY'] = os.getenv('GEMINI_API_KEY')"
   ]
  },
  {
   "cell_type": "code",
   "execution_count": 5,
   "id": "001cfb99",
   "metadata": {},
   "outputs": [
    {
     "name": "stdout",
     "output_type": "stream",
     "text": [
      "26971 {'source': 'cricket_matches\\\\match1.md'}\n",
      "27165 {'source': 'cricket_matches\\\\match2.md'}\n",
      "26482 {'source': 'cricket_matches\\\\match3.md'}\n"
     ]
    }
   ],
   "source": [
    "text_loader_kwargs = {'encoding': 'utf-8'}\n",
    "# text_loader_kwargs={'autodetect_encoding': True}\n",
    "loader=DirectoryLoader(\"cricket_matches\", glob=\"*.md\", loader_cls=TextLoader,loader_kwargs=text_loader_kwargs)\n",
    "documents=loader.load()\n",
    "for doc in documents:\n",
    "    print(len(doc.page_content), doc.metadata)  #len is number of characters"
   ]
  },
  {
   "cell_type": "code",
   "execution_count": 6,
   "id": "3a3b2f60",
   "metadata": {},
   "outputs": [
    {
     "name": "stderr",
     "output_type": "stream",
     "text": [
      "Created a chunk of size 1304, which is longer than the specified 1000\n",
      "Created a chunk of size 1530, which is longer than the specified 1000\n",
      "Created a chunk of size 1137, which is longer than the specified 1000\n",
      "Created a chunk of size 1062, which is longer than the specified 1000\n"
     ]
    }
   ],
   "source": [
    "text_splitter = CharacterTextSplitter(chunk_size=1000, chunk_overlap=200) \n",
    "# this 1000 is soft limit not necessery all chunks have size of 1000 you can see in next cell\n",
    "chunks = text_splitter.split_documents(documents)\n"
   ]
  },
  {
   "cell_type": "code",
   "execution_count": 7,
   "id": "1a5138d5",
   "metadata": {},
   "outputs": [
    {
     "name": "stdout",
     "output_type": "stream",
     "text": [
      "122\n",
      "666.4344262295082 403 1530\n"
     ]
    }
   ],
   "source": [
    "print(len(chunks))   # total number of chunks\n",
    "a=[]\n",
    "for chunk in chunks:\n",
    "    a.append(len(chunk.page_content))\n",
    "print(np.mean(a),  np.min(a), np.max(a))  #average,  min, max"
   ]
  },
  {
   "cell_type": "code",
   "execution_count": 9,
   "id": "07a2c27f",
   "metadata": {},
   "outputs": [],
   "source": [
    "# from google import genai\n",
    "# import getpass\n",
    "\n",
    "# # client = genai.Client()\n",
    "\n",
    "# embeddings = GoogleGenerativeAIEmbeddings(model=\"models/gemini-embedding-001\")\n",
    "# # embeddings.embed_query(\"Hello, world!\")   ##how to use the embedding function\n",
    "\n",
    "\n",
    "# if os.path.exists(db_name):\n",
    "#     Chroma(persist_directory=db_name, embedding_function=embeddings).delete_collection()\n",
    "\n",
    "# # Create vectorstore\n",
    "# x=[]\n",
    "\n",
    "# for i in range(50):\n",
    "#     x.append(chunks[i])\n",
    "\n",
    "\n",
    "# vectorstore = Chroma.from_documents(documents=x, embedding=embeddings, persist_directory=db_name)\n",
    "# print(f\"Vectorstore created with {vectorstore._collection.count()} documents\")"
   ]
  },
  {
   "cell_type": "code",
   "execution_count": 10,
   "id": "05958f60",
   "metadata": {},
   "outputs": [
    {
     "name": "stdout",
     "output_type": "stream",
     "text": [
      "✅ Processed batch 1/2\n",
      "✅ Processed batch 2/2\n",
      "Vectorstore created with 122 documents\n"
     ]
    }
   ],
   "source": [
    "#embeding\n",
    "\n",
    "import time\n",
    "\n",
    "# Set API key\n",
    "embeddings = GoogleGenerativeAIEmbeddings(model=\"models/gemini-embedding-001\")\n",
    "# # embeddings.embed_query(\"Hello, world!\")   ##how to use the embedding function\n",
    "\n",
    "# Delete if already exists\n",
    "if os.path.exists(db_name):\n",
    "    Chroma(persist_directory=db_name, embedding_function=embeddings).delete_collection()\n",
    "\n",
    "# Gemini free API has only 100 RPM so we have introduced batch logic and for safer side it is 80\n",
    "batch_size = 80\n",
    "total_batches = (len(chunks) + batch_size - 1) // batch_size\n",
    "\n",
    "for batch_num in range(total_batches):\n",
    "    start_idx = batch_num * batch_size\n",
    "    end_idx = start_idx + batch_size\n",
    "    batch_chunks = chunks[start_idx:end_idx]\n",
    "    \n",
    "    if batch_num == 0:\n",
    "        # First batch - create collection\n",
    "        vectorstore = Chroma.from_documents(\n",
    "            documents=batch_chunks, \n",
    "            embedding=embeddings, \n",
    "            persist_directory=db_name\n",
    "        )\n",
    "    else:\n",
    "        # Subsequent batches - add to collection\n",
    "        vectorstore.add_documents(documents=batch_chunks)\n",
    "    \n",
    "    print(f\"✅ Processed batch {batch_num + 1}/{total_batches}\")\n",
    "    time.sleep(70)  # Rate limiting\n",
    "\n",
    "print(f\"Vectorstore created with {vectorstore._collection.count()} documents\")"
   ]
  },
  {
   "cell_type": "code",
   "execution_count": 36,
   "id": "e4ae0e00",
   "metadata": {},
   "outputs": [
    {
     "name": "stdout",
     "output_type": "stream",
     "text": [
      "The vectors have 3,072 dimensions\n"
     ]
    }
   ],
   "source": [
    "# Get one vector and find how many dimensions it has\n",
    "\n",
    "collection = vectorstore._collection\n",
    "sample_embedding = collection.get(limit=1, include=['embeddings'])[\"embeddings\"][0]\n",
    "dimensions = len(sample_embedding)\n",
    "print(f\"The vectors have {dimensions:,} dimensions\")\n"
   ]
  },
  {
   "cell_type": "code",
   "execution_count": 39,
   "id": "ee2dbfed",
   "metadata": {},
   "outputs": [],
   "source": [
    "# Prework\n",
    "\n",
    "result = collection.get(include=['embeddings', 'documents', 'metadatas'])\n",
    "vectors = np.array(result['embeddings'])\n",
    "documents = result['documents']\n",
    "doc_types = [metadata['source'] for metadata in result['metadatas']]\n",
    "colors = [['blue', 'green', 'red'][['cricket_matches\\\\match1.md', 'cricket_matches\\\\match2.md', 'cricket_matches\\\\match3.md'].index(t)] for t in doc_types]\n"
   ]
  },
  {
   "cell_type": "code",
   "execution_count": null,
   "id": "fdcafcc1",
   "metadata": {},
   "outputs": [
    {
     "data": {
      "application/vnd.plotly.v1+json": {
       "config": {
        "plotlyServerURL": "https://plot.ly"
       },
       "data": [
        {
         "hoverinfo": "text",
         "marker": {
          "color": [
           "blue",
           "blue",
           "blue",
           "blue",
           "blue",
           "blue",
           "blue",
           "blue",
           "blue",
           "blue",
           "blue",
           "blue",
           "blue",
           "blue",
           "blue",
           "blue",
           "blue",
           "blue",
           "blue",
           "blue",
           "blue",
           "blue",
           "blue",
           "blue",
           "blue",
           "blue",
           "blue",
           "blue",
           "blue",
           "blue",
           "blue",
           "blue",
           "blue",
           "blue",
           "blue",
           "blue",
           "blue",
           "blue",
           "blue",
           "blue",
           "blue",
           "blue",
           "blue",
           "green",
           "green",
           "green",
           "green",
           "green",
           "green",
           "green",
           "green",
           "green",
           "green",
           "green",
           "green",
           "green",
           "green",
           "green",
           "green",
           "green",
           "green",
           "green",
           "green",
           "green",
           "green",
           "green",
           "green",
           "green",
           "green",
           "green",
           "green",
           "green",
           "green",
           "green",
           "green",
           "green",
           "green",
           "green",
           "green",
           "green",
           "green",
           "green",
           "green",
           "green",
           "green",
           "green",
           "red",
           "red",
           "red",
           "red",
           "red",
           "red",
           "red",
           "red",
           "red",
           "red",
           "red",
           "red",
           "red",
           "red",
           "red",
           "red",
           "red",
           "red",
           "red",
           "red",
           "red",
           "red",
           "red",
           "red",
           "red",
           "red",
           "red",
           "red",
           "red",
           "red",
           "red",
           "red",
           "red",
           "red",
           "red",
           "red"
          ],
          "opacity": 0.8,
          "size": 5
         },
         "mode": "markers",
         "text": [
          "Type: cricket_matches\\match1.md<br>Text: ### **India vs Australia**\n*ICC Men's T20 World Cup, Super Eight*\n\n---\n\n## **Match Summary**\n\n* **Te...",
          "Type: cricket_matches\\match1.md<br>Text: ---\n\n## **Scorecard**\n\n### **India Innings**\n**(Total: 205/5 in 20 overs, RR: 10.25)**\n\n| **Batter**...",
          "Type: cricket_matches\\match1.md<br>Text: **Fall of wickets:** 1-6 (Virat Kohli, 1.4 ov), 2-93 (Rishabh Pant, 7.6 ov), 3-127 (Rohit Sharma, 11...",
          "Type: cricket_matches\\match1.md<br>Text: ### **Australia Innings**\n**(Target: 206 from 20 overs)**\n**(Total: 181/7 in 20 overs, RR: 9.05)**\n\n...",
          "Type: cricket_matches\\match1.md<br>Text: **Fall of wickets:** 1-6 (David Warner, 0.6 ov), 2-87 (Mitchell Marsh, 8.6 ov), 3-128 (Glenn Maxwell...",
          "Type: cricket_matches\\match1.md<br>Text: ---\n\n## **Match Flow**\n\n### **India Innings**\n* **Powerplay (Overs 0.1 - 6.0):** 60 runs, 1 wicket\n*...",
          "Type: cricket_matches\\match1.md<br>Text: ---\n\n## **Ball-by-Ball Commentary (India Innings)**\n\n#### **Over 1: Mitchell Starc**\n* **0.1:** No r...",
          "Type: cricket_matches\\match1.md<br>Text: #### **Over 2: Josh Hazlewood**\n* **1.1:** Single. Good length in the channel, jabbed through backwa...",
          "Type: cricket_matches\\match1.md<br>Text: #### **Over 3: Mitchell Starc**\n* **2.1:** SIX! Bosh, launched up and over! Full outside off and Roh...",
          "Type: cricket_matches\\match1.md<br>Text: #### **Over 4: Josh Hazlewood**\n* **3.1:** No run. Back to top-of-off stylings from Hazlewood, Pant ...",
          "Type: cricket_matches\\match1.md<br>Text: #### **Over 5: Pat Cummins**\n* **4.1:** SIX! First ball goes the journey! More tonkage from India's ...",
          "Type: cricket_matches\\match1.md<br>Text: #### **Over 6: Josh Hazlewood**\n* **5.1:** Leg bye. Back of a length, deflected for one off the padd...",
          "Type: cricket_matches\\match1.md<br>Text: #### **Over 7: Adam Zampa**\n* **6.1:** SIX! Creamed down the ground first ball! Pant skips out and b...",
          "Type: cricket_matches\\match1.md<br>Text: #### **Over 9: Adam Zampa**\n* **8.1:** Single. Clipped down the ground.\n* **8.2:** Single. 90kph and...",
          "Type: cricket_matches\\match1.md<br>Text: #### **Over 10: Marcus Stoinis**\n* **9.1:** FOUR. Swatted, just clears short fine leg! Spliced on th...",
          "Type: cricket_matches\\match1.md<br>Text: #### **Over 11: Pat Cummins**\n* **10.1:** Two runs. Punched into the off side and they get two thank...",
          "Type: cricket_matches\\match1.md<br>Text: #### **Over 12: Mitchell Starc**\n* **11.1:** No run.\n* **11.2:** **WICKET!** OUT! Rohit Sharma b Sta...",
          "Type: cricket_matches\\match1.md<br>Text: #### **Over 14: Marcus Stoinis**\n* **13.1:** Single. Length ball angling in, driven through midwicke...",
          "Type: cricket_matches\\match1.md<br>Text: #### **Over 15: Mitchell Starc**\n* **14.1:** FOUR. Slashed between short third and backward point!\n*...",
          "Type: cricket_matches\\match1.md<br>Text: #### **Over 16: Josh Hazlewood**\n* **15.1:** No run. Shortish, 133kph, over the top of off. Pandya c...",
          "Type: cricket_matches\\match1.md<br>Text: #### **Over 17: Adam Zampa**\n* **16.1:** Single. Goes full and flat at the pads, swatted through mid...",
          "Type: cricket_matches\\match1.md<br>Text: #### **Over 18: Pat Cummins**\n* **17.1:** Two runs. Round the wicket, full and wide. Dube thrashes a...",
          "Type: cricket_matches\\match1.md<br>Text: #### **Over 19: Marcus Stoinis**\n* **18.1:** SIX! Pandya plays a pirouetting smash over cover!\n* **1...",
          "Type: cricket_matches\\match1.md<br>Text: #### **Over 20: Pat Cummins**\n* **19.1:** Single. Round the wicket, dug in short. Jaddu short-arms a...",
          "Type: cricket_matches\\match1.md<br>Text: ---\n\n## **Ball-by-Ball Commentary (Australia Innings)**\n\n#### **Over 1: Arshdeep Singh**\n* **0.1:** ...",
          "Type: cricket_matches\\match1.md<br>Text: #### **Over 2: Jasprit Bumrah**\n* **1.1:** No run. Back of a length, chopped into the covers off the...",
          "Type: cricket_matches\\match1.md<br>Text: #### **Over 3: Arshdeep Singh**\n* **2.1:** No run. Low full-toss, clipped to midwicket.\n* **2.2:** N...",
          "Type: cricket_matches\\match1.md<br>Text: #### **Over 4: Jasprit Bumrah**\n* **3.1:** FOUR. Length ball, fifth-stump line, Head frees his arms ...",
          "Type: cricket_matches\\match1.md<br>Text: #### **Over 5: Axar Patel**\n* **4.1:** No run. Length ball slanting in, doesn't connect with the swe...",
          "Type: cricket_matches\\match1.md<br>Text: #### **Over 6: Hardik Pandya**\n* **5.1:** Wide. Slower bouncer, ends up well wide outside off.\n* **5...",
          "Type: cricket_matches\\match1.md<br>Text: #### **Over 7: Kuldeep Yadav**\n* **6.1:** No run. Tossed up outside leg, swept to short fine leg.\n* ...",
          "Type: cricket_matches\\match1.md<br>Text: #### **Over 8: Hardik Pandya**\n* **7.1:** Two runs. Length ball slanting across, punched to the left...",
          "Type: cricket_matches\\match1.md<br>Text: #### **Over 9: Kuldeep Yadav**\n* **8.1:** Single. Low full-toss on middle and leg, clipped down to l...",
          "Type: cricket_matches\\match1.md<br>Text: #### **Over 10: Hardik Pandya**\n* **9.1:** FOUR. Bad ball. Back of a length, plenty of room for Head...",
          "Type: cricket_matches\\match1.md<br>Text: #### **Over 11: Ravindra Jadeja**\n* **10.1:** FOUR. And Maxwell begins with a super shot. Opens his ...",
          "Type: cricket_matches\\match1.md<br>Text: #### **Over 12: Kuldeep Yadav**\n* **11.1:** Single. Tossed up on middle and leg, swept down to deep ...",
          "Type: cricket_matches\\match1.md<br>Text: #### **Over 13: Axar Patel**\n* **12.1:** No run. Back of a length outside off, cut to short third.\n*...",
          "Type: cricket_matches\\match1.md<br>Text: #### **Over 14: Kuldeep Yadav**\n* **13.1:** **WICKET!** OUT! Glenn Maxwell b Kuldeep Yadav 20 (12b)....",
          "Type: cricket_matches\\match1.md<br>Text: #### **Over 15: Axar Patel**\n* **14.1:** **WICKET!** OUT! Marcus Stoinis c Pandya b Patel 2 (4b). Re...",
          "Type: cricket_matches\\match1.md<br>Text: #### **Over 17: Jasprit Bumrah**\n* **16.1:** Single. Length ball, flat-bats to deep midwicket.\n* **1...",
          "Type: cricket_matches\\match1.md<br>Text: #### **Over 18: Arshdeep Singh**\n* **17.1:** **WICKET!** OUT! Matthew Wade c Kuldeep Yadav b Arshdee...",
          "Type: cricket_matches\\match1.md<br>Text: #### **Over 19: Jasprit Bumrah**\n* **18.1:** Bye. Length ball straightens and bounces over off stump...",
          "Type: cricket_matches\\match1.md<br>Text: #### **Over 20: Hardik Pandya**\n* **19.1:** Two runs. Slower ball, back of a length, flat-batted dow...",
          "Type: cricket_matches\\match2.md<br>Text: ### **India vs England**\n*ICC Men's T20 World Cup Semi-Final 2024*\n\n---\n\n## **Match Summary**\n\n* **T...",
          "Type: cricket_matches\\match2.md<br>Text: | **Batter** | **Dismissal** | **R** | **B** | **4s** | **6s** | **SR** |\n| :---------------------- ...",
          "Type: cricket_matches\\match2.md<br>Text: **Fall of wickets:** 1-19 (Virat Kohli, 2.4 ov), 2-40 (Rishabh Pant, 5.2 ov), 3-113 (Rohit Sharma, 1...",
          "Type: cricket_matches\\match2.md<br>Text: | **Batter** | **Dismissal** | **R** | **B** | **4s** | **6s** | **SR** |\n| :-------------------- | ...",
          "Type: cricket_matches\\match2.md<br>Text: **Fall of wickets:** 1-26 (Jos Buttler, 3.1 ov), 2-34 (Phil Salt, 4.4 ov), 3-35 (Jonny Bairstow, 5.1...",
          "Type: cricket_matches\\match2.md<br>Text: ---\n\n## **Match Flow**\n\n### **India Innings**\n* **Powerplay (Overs 0.1 - 6.0):** 46 runs, 2 wickets\n...",
          "Type: cricket_matches\\match2.md<br>Text: ---\n\n## **Ball-by-Ball Commentary (India Innings)**\n\n#### **Over 1: Reece Topley**\n* **0.1:** No run...",
          "Type: cricket_matches\\match2.md<br>Text: #### **Over 2: Jofra Archer**\n* **1.1:** No run. Stays low! Archer hits a length in the channel, Koh...",
          "Type: cricket_matches\\match2.md<br>Text: #### **Over 3: Reece Topley**\n* **2.1:** No run. An offcutter, 128kph/79mph and it spins up past the...",
          "Type: cricket_matches\\match2.md<br>Text: #### **Over 4: Jofra Archer**\n* **3.1:** No run. Back of a length on the stumps, again seems to stay...",
          "Type: cricket_matches\\match2.md<br>Text: #### **Over 5: Reece Topley**\n* **4.1:** Single. On the pads, flicked in the air... but short of Ras...",
          "Type: cricket_matches\\match2.md<br>Text: #### **Over 6: Sam Curran**\n* **5.1:** No run. Good length from over the wicket, Pant nudges to midw...",
          "Type: cricket_matches\\match2.md<br>Text: #### **Over 7: Adil Rashid**\n* **6.1:** FOUR. Rohit goes for the reverse and gets it away! Chopping ...",
          "Type: cricket_matches\\match2.md<br>Text: #### **Over 8: Chris Jordan**\n* **7.1:** Single. Short with pace off, wide of off stump. Rohit pulls...",
          "Type: cricket_matches\\match2.md<br>Text: ***-- RAIN DELAY --***\n\n#### **Over 9: Liam Livingstone**\n* **8.1:** No run. Loopy and full, 89ks on...",
          "Type: cricket_matches\\match2.md<br>Text: #### **Over 10: Adil Rashid**\n* **9.1:** Single. Goes back and tucks it towards long-on again.\n* **9...",
          "Type: cricket_matches\\match2.md<br>Text: #### **Over 11: Liam Livingstone**\n* **10.1:** No run. Length on fifth, underedges the cut towards b...",
          "Type: cricket_matches\\match2.md<br>Text: #### **Over 12: Adil Rashid**\n* **11.1:** No run. Punches it off a length to cover.\n* **11.2:** Two ...",
          "Type: cricket_matches\\match2.md<br>Text: #### **Over 13: Sam Curran**\n* **12.1:** SIX! Remarkable launch square of the wicket. Pitched up and...",
          "Type: cricket_matches\\match2.md<br>Text: #### **Over 14: Adil Rashid**\n* **13.1:** Single. Goes back and clips it to deep midwicket. Rashid k...",
          "Type: cricket_matches\\match2.md<br>Text: #### **Over 15: Liam Livingstone**\n* **14.1:** FOUR. Cut with the spin and almost off the keeper's g...",
          "Type: cricket_matches\\match2.md<br>Text: #### **Over 16: Jofra Archer**\n* **15.1:** Single. Legcutter on a back of length outside off, cut to...",
          "Type: cricket_matches\\match2.md<br>Text: #### **Over 17: Liam Livingstone**\n* **16.1:** No run. Full on leg, driven back to the bowler.\n* **1...",
          "Type: cricket_matches\\match2.md<br>Text: #### **Over 18: Chris Jordan**\n* **17.1:** Two runs. Into the pitch, Hardik makes room and bunt-cuts...",
          "Type: cricket_matches\\match2.md<br>Text: #### **Over 19: Jofra Archer**\n* **18.1:** Single. Bunts it off a length to deep point.\n* **18.2:** ...",
          "Type: cricket_matches\\match2.md<br>Text: #### **Over 20: Chris Jordan**\n* **19.1:** Two runs. Jadeja stays leg side of the slower length ball...",
          "Type: cricket_matches\\match2.md<br>Text: ---\n\n## **Ball-by-Ball Commentary (England Innings)**\n\n#### **Over 1: Arshdeep Singh**\n* **0.1:** Si...",
          "Type: cricket_matches\\match2.md<br>Text: #### **Over 2: Jasprit Bumrah**\n* **1.1:** Single. Short of a length, 136kph/84mph into the body. Sa...",
          "Type: cricket_matches\\match2.md<br>Text: #### **Over 3: Arshdeep Singh**\n* **2.1:** FOUR. Buttler saunters down and smashes over mid-off!\n* *...",
          "Type: cricket_matches\\match2.md<br>Text: #### **Over 4: Axar Patel**\n* **3.1:** **WICKET!** OUT! Jos Buttler c †Pant b Patel 23 (15b). Axar t...",
          "Type: cricket_matches\\match2.md<br>Text: #### **Over 5: Jasprit Bumrah**\n* **4.1:** No run. Fizzing slower ball, dipping and then spinning aw...",
          "Type: cricket_matches\\match2.md<br>Text: #### **Over 6: Axar Patel**\n* **5.1:** **WICKET!** OUT! Jonny Bairstow b Patel 0 (3b). There's anoth...",
          "Type: cricket_matches\\match2.md<br>Text: #### **Over 7: Kuldeep Yadav**\n* **6.1:** Single. Over the wicket, tossed up around off stump. Moeen...",
          "Type: cricket_matches\\match2.md<br>Text: #### **Over 8: Axar Patel**\n* **7.1:** **WICKET!** OUT! Moeen Ali st †Pant b Patel 8 (10b). Stumped!...",
          "Type: cricket_matches\\match2.md<br>Text: #### **Over 9: Kuldeep Yadav**\n* **8.1:** **WICKET!** OUT! Sam Curran lbw b Kuldeep Yadav 2 (4b). Tr...",
          "Type: cricket_matches\\match2.md<br>Text: #### **Over 10: Ravindra Jadeja**\n* **9.1:** Two runs. Fired down on off stump, Brook cuts and gets ...",
          "Type: cricket_matches\\match2.md<br>Text: #### **Over 11: Kuldeep Yadav**\n* **10.1:** Two runs. Run-out missed, overthrow taken. Full ball pus...",
          "Type: cricket_matches\\match2.md<br>Text: #### **Over 12: Ravindra Jadeja**\n* **11.1:** Single. Tucks it across to the leg side.\n* **11.2:** S...",
          "Type: cricket_matches\\match2.md<br>Text: #### **Over 13: Kuldeep Yadav**\n* **12.1:** Single. Chops it off the back foot to point.\n* **12.2:**...",
          "Type: cricket_matches\\match2.md<br>Text: #### **Over 14: Ravindra Jadeja**\n* **13.1:** No run. Archer unsure, manages to work it back to the ...",
          "Type: cricket_matches\\match2.md<br>Text: #### **Over 15: Axar Patel**\n* **14.1:** Two runs. Goes across and tucks it off the front foot throu...",
          "Type: cricket_matches\\match2.md<br>Text: #### **Over 16: Hardik Pandya**\n* **15.1:** Two runs. Chops it to deep point.\n* **15.2:** **WICKET!*...",
          "Type: cricket_matches\\match2.md<br>Text: #### **Over 17: Jasprit Bumrah**\n* **16.1:** Single. Slower low full toss, Topley brooms it to long-...",
          "Type: cricket_matches\\match3.md<br>Text: ### **India vs South Africa**\n*ICC Men's T20 World Cup Final 2024*\n\n---\n\n## **Match Summary**\n\n* **T...",
          "Type: cricket_matches\\match3.md<br>Text: ---\n\n## **Scorecard**\n\n### **India Innings**\n**(Total: 176/7 in 20 overs, RR: 8.80)**\n\n| **Batter** ...",
          "Type: cricket_matches\\match3.md<br>Text: **Fall of wickets:** 1-23 (Rohit Sharma, 1.4 ov), 2-23 (Rishabh Pant, 1.6 ov), 3-34 (Suryakumar Yada...",
          "Type: cricket_matches\\match3.md<br>Text: ### **South Africa Innings**\n**(Target: 177 from 20 overs)**\n**(Total: 169/8 in 20 overs, RR: 8.45)*...",
          "Type: cricket_matches\\match3.md<br>Text: **Fall of wickets:** 1-7 (Reeza Hendricks, 1.3 ov), 2-12 (Aiden Markram, 2.3 ov), 3-70 (Tristan Stub...",
          "Type: cricket_matches\\match3.md<br>Text: ---\n\n## **Match Flow**\n\n### **India Innings**\n* **Powerplay (Overs 0.1 - 6.0):** 45 runs, 3 wickets\n...",
          "Type: cricket_matches\\match3.md<br>Text: #### **Over 1: Marco Jansen**\n* **0.1:** Single. Full to start, just a hint of swing to straighten t...",
          "Type: cricket_matches\\match3.md<br>Text: #### **Over 2: Keshav Maharaj**\n* **1.1:** FOUR. Just a touch back of a length, not a lot of width, ...",
          "Type: cricket_matches\\match3.md<br>Text: #### **Over 3: Kagiso Rabada**\n* **2.1:** No run. Back of a length outside off, and steep bounce thr...",
          "Type: cricket_matches\\match3.md<br>Text: #### **Over 4: Keshav Maharaj**\n* **3.1:** Two runs. Tossed up wide of off, driven with a wristy sla...",
          "Type: cricket_matches\\match3.md<br>Text: #### **Over 5: Kagiso Rabada**\n* **4.1:** Single. Length ball outside off, presses forward and guide...",
          "Type: cricket_matches\\match3.md<br>Text: #### **Over 6: Aiden Markram**\n* **5.1:** Single. Full, angling into middle and leg, clipped to deep...",
          "Type: cricket_matches\\match3.md<br>Text: #### **Over 7: Anrich Nortje**\n* **6.1:** Single. Back of a length close to off stump, opens the bat...",
          "Type: cricket_matches\\match3.md<br>Text: #### **Over 8: Aiden Markram**\n* **7.1:** Single. Full, angled into leg stump from round the wicket,...",
          "Type: cricket_matches\\match3.md<br>Text: #### **Over 9: Keshav Maharaj**\n* **8.1:** Single. Goes back and punches a length ball down to long-...",
          "Type: cricket_matches\\match3.md<br>Text: #### **Over 10: Tabraiz Shamsi**\n* **9.1:** Wide. Starts with a wide outside off.\n* **9.1:** Single....",
          "Type: cricket_matches\\match3.md<br>Text: #### **Over 11: Marco Jansen**\n* **10.1:** Single. Slower ball, skews off a leading edge, but short ...",
          "Type: cricket_matches\\match3.md<br>Text: #### **Over 12: Tabraiz Shamsi**\n* **11.1:** No run. Steps into the full length, and clipped to the ...",
          "Type: cricket_matches\\match3.md<br>Text: #### **Over 13: Anrich Nortje**\n* **12.1:** Single. Full, on the toes, flicked uppishly out to deep ...",
          "Type: cricket_matches\\match3.md<br>Text: #### **Over 14: Kagiso Rabada**\n* **13.1:** SIX! What a shot! Axar holds his shape and lifts a full ...",
          "Type: cricket_matches\\match3.md<br>Text: #### **Over 15: Marco Jansen**\n* **14.1:** SIX! Dube dumps it long! Sits back and swings a length ba...",
          "Type: cricket_matches\\match3.md<br>Text: #### **Over 17: Anrich Nortje**\n* **16.1:** Single. Outside off, chopped to deep backward point.\n* *...",
          "Type: cricket_matches\\match3.md<br>Text: #### **Over 18: Kagiso Rabada**\n* **17.1:** SIX! Kohli goes long at last! Length ball outside off, a...",
          "Type: cricket_matches\\match3.md<br>Text: #### **Over 19: Marco Jansen**\n* **18.1:** No ball. Jansen oversteps, Kohli misses the swing. Free h...",
          "Type: cricket_matches\\match3.md<br>Text: #### **Over 20: Anrich Nortje**\n* **19.1:** Wide. Full length but too wide.\n* **19.1:** Single. Swun...",
          "Type: cricket_matches\\match3.md<br>Text: ---\n\n## **Ball-by-Ball Commentary (South Africa Innings)**\n\n#### **Over 1: Arshdeep Singh**\n* **0.1:...",
          "Type: cricket_matches\\match3.md<br>Text: #### **Over 3: Arshdeep Singh**\n* **2.1:** Full, pushed to the right of mid-on for one.\n* **2.2:** S...",
          "Type: cricket_matches\\match3.md<br>Text: #### **Over 5: Axar Patel**\n* **4.1:** Struck on the pad outside the line while attempting a sweep.\n...",
          "Type: cricket_matches\\match3.md<br>Text: #### **Over 7: Axar Patel**\n* **6.1:** Single. Back of a length, chopped to the off-side sweeper.\n* ...",
          "Type: cricket_matches\\match3.md<br>Text: #### **Over 9: Axar Patel**\n* **8.1:** SIX! Stubbs steps across and pulls a shortish ball over deep ...",
          "Type: cricket_matches\\match3.md<br>Text: #### **Over 10: Hardik Pandya**\n* **9.1:** No run. Back of a length, punched to short cover.\n* **9.2...",
          "Type: cricket_matches\\match3.md<br>Text: #### **Over 12: Kuldeep Yadav**\n* **11.1:** Single. Skimmies down, toe-ends to point.\n* **11.2:** No...",
          "Type: cricket_matches\\match3.md<br>Text: #### **Over 14: Kuldeep Yadav**\n* **13.1:** Two runs. Clipped to deep midwicket.\n* **13.2:** No run....",
          "Type: cricket_matches\\match3.md<br>Text: #### **Over 16: Jasprit Bumrah**\n* **15.1:** Single. Inside-edge past the stumps!\n* **15.2:** Two ru...",
          "Type: cricket_matches\\match3.md<br>Text: #### **Over 18: Jasprit Bumrah**\n* **17.1:** No run. Snorter! Misses the outside edge and off stump ...",
          "Type: cricket_matches\\match3.md<br>Text: #### **Over 20: Hardik Pandya (16 runs to defend)**\n* **19.1:** **WICKET!** OUT! David Miller c Yada..."
         ],
         "type": "scatter",
         "x": {
          "bdata": "Gx0qwa4Nm0BH6alAn/S6QLbMyUBICaBA2x7vQCPtHUGpxRRBJ8QTQWJpH0FwaRFBiPzWQK/pAEEtq8ZAoMIfQf6JAEFqPN5AQLH0QIPjmkCEwaZAHBGnQPd+x0AvUrRASrTcQAfe7EBGxG5AhT3oQCb+XkAAqKRAdDdSQJu9n0D3RUlAx16wQCL4AEAzkGNAeRvtPxRUSUCIFbNAjXLWQPYM4UCgUsRAnOOqQDjiIsEzdxrB70oZwY+iDcELXAvBQyQcwSRWBcGh8NDAYzjowPgUw8AqEcbACpKgwLR4gcDDwsO/BBKuv2wiZMBNtQHAY+lfwCmWHcC49H3AE6bIv3acQsBN8Zm/TfotwDH0Kr7qeLDA18YIwWzp88A+EArBy4/GwKcX5sDpULTAWHKAwCxIrsBBFoDATaDvv0UAacAsIsO/AxZpwON7HL5UyIrAbB16wCNkqsDbjyDBM8zhwGGtzsCG58HA1GO+wIqrtsANuHtAMEspwGZwlT5LYxU+1hbJvk0Fgr9HSWk/pMFGviK5wT7UGUU/BtZuQL+Daz/PHO8/uA6bPy0pIkAwQdU/WtwFQOyQWEDRhYrAHBSKwJmNSMAJqaC/0Y6dv2WPlr42AkrAsDl3wEdFLcDciq3AG1gTwDlKtcA=",
          "dtype": "f4"
         },
         "y": {
          "bdata": "zsSMwCwWBkEqLwNBhWcFQe03/kDAE+RA/j+zQEzwV0CU4mQ/1gkfQBCyED8gXw5AfSz3PlqzKD+8QF6+v9tcvp1Gxr5xmvO/TQvGv+PuIMBjg7a/qj8LwBcJ57/8PKBA5+zUQIujaEC8osY+SwRZQMhpNzxAgSdAGcVIQBDcFUATuBe/ca8CQJvI9T/o7DNA0UmGwM91B0CKlVU/O14tQM1dWsD8U3tAdQ51QIoziMAigZO+L9ybPu0/or6CLHk+zNHFP4XfvEDAEq9AsBbbQAHNrUDfkNZAVY+kQNeW1EDpjuNABknQQPMcwECcv8RAXSHhQLIz9UAgg+lA+1+GQC2Ec0D9vnVAWr9JQB4DiD9CLR9AdA2NQEEMhECuTn1AbHDLP3ZQQUDxboI/plEuvsJBIT8GZmY/IhxAP90ZDj9oEmg/1a+7P2sEjD8PXEhAPI+DQJtIaUB+PpLAM0XxwOTJ+sAUnAHBNysOwf9b5cC5GdnAJL0DwSIl+cAEGRXBGazgwEQMqMDAMg/BBryUwKPqiMA2BaPAxbXJwD/6sMDlYKTAYr/UwIbLAsEFrwzBdWQEwTZm9MCu6QrB0r77wM/Z78BFv2HAo1RZwFROQsDrH6/Ai+PbwL0ZlsBmSajAbT7PwINmpsA=",
          "dtype": "f4"
         }
        }
       ],
       "layout": {
        "height": 600,
        "margin": {
         "b": 10,
         "l": 10,
         "r": 20,
         "t": 40
        },
        "scene": {
         "xaxis": {
          "title": {
           "text": "x"
          }
         },
         "yaxis": {
          "title": {
           "text": "y"
          }
         }
        },
        "template": {
         "data": {
          "bar": [
           {
            "error_x": {
             "color": "#2a3f5f"
            },
            "error_y": {
             "color": "#2a3f5f"
            },
            "marker": {
             "line": {
              "color": "#E5ECF6",
              "width": 0.5
             },
             "pattern": {
              "fillmode": "overlay",
              "size": 10,
              "solidity": 0.2
             }
            },
            "type": "bar"
           }
          ],
          "barpolar": [
           {
            "marker": {
             "line": {
              "color": "#E5ECF6",
              "width": 0.5
             },
             "pattern": {
              "fillmode": "overlay",
              "size": 10,
              "solidity": 0.2
             }
            },
            "type": "barpolar"
           }
          ],
          "carpet": [
           {
            "aaxis": {
             "endlinecolor": "#2a3f5f",
             "gridcolor": "white",
             "linecolor": "white",
             "minorgridcolor": "white",
             "startlinecolor": "#2a3f5f"
            },
            "baxis": {
             "endlinecolor": "#2a3f5f",
             "gridcolor": "white",
             "linecolor": "white",
             "minorgridcolor": "white",
             "startlinecolor": "#2a3f5f"
            },
            "type": "carpet"
           }
          ],
          "choropleth": [
           {
            "colorbar": {
             "outlinewidth": 0,
             "ticks": ""
            },
            "type": "choropleth"
           }
          ],
          "contour": [
           {
            "colorbar": {
             "outlinewidth": 0,
             "ticks": ""
            },
            "colorscale": [
             [
              0,
              "#0d0887"
             ],
             [
              0.1111111111111111,
              "#46039f"
             ],
             [
              0.2222222222222222,
              "#7201a8"
             ],
             [
              0.3333333333333333,
              "#9c179e"
             ],
             [
              0.4444444444444444,
              "#bd3786"
             ],
             [
              0.5555555555555556,
              "#d8576b"
             ],
             [
              0.6666666666666666,
              "#ed7953"
             ],
             [
              0.7777777777777778,
              "#fb9f3a"
             ],
             [
              0.8888888888888888,
              "#fdca26"
             ],
             [
              1,
              "#f0f921"
             ]
            ],
            "type": "contour"
           }
          ],
          "contourcarpet": [
           {
            "colorbar": {
             "outlinewidth": 0,
             "ticks": ""
            },
            "type": "contourcarpet"
           }
          ],
          "heatmap": [
           {
            "colorbar": {
             "outlinewidth": 0,
             "ticks": ""
            },
            "colorscale": [
             [
              0,
              "#0d0887"
             ],
             [
              0.1111111111111111,
              "#46039f"
             ],
             [
              0.2222222222222222,
              "#7201a8"
             ],
             [
              0.3333333333333333,
              "#9c179e"
             ],
             [
              0.4444444444444444,
              "#bd3786"
             ],
             [
              0.5555555555555556,
              "#d8576b"
             ],
             [
              0.6666666666666666,
              "#ed7953"
             ],
             [
              0.7777777777777778,
              "#fb9f3a"
             ],
             [
              0.8888888888888888,
              "#fdca26"
             ],
             [
              1,
              "#f0f921"
             ]
            ],
            "type": "heatmap"
           }
          ],
          "histogram": [
           {
            "marker": {
             "pattern": {
              "fillmode": "overlay",
              "size": 10,
              "solidity": 0.2
             }
            },
            "type": "histogram"
           }
          ],
          "histogram2d": [
           {
            "colorbar": {
             "outlinewidth": 0,
             "ticks": ""
            },
            "colorscale": [
             [
              0,
              "#0d0887"
             ],
             [
              0.1111111111111111,
              "#46039f"
             ],
             [
              0.2222222222222222,
              "#7201a8"
             ],
             [
              0.3333333333333333,
              "#9c179e"
             ],
             [
              0.4444444444444444,
              "#bd3786"
             ],
             [
              0.5555555555555556,
              "#d8576b"
             ],
             [
              0.6666666666666666,
              "#ed7953"
             ],
             [
              0.7777777777777778,
              "#fb9f3a"
             ],
             [
              0.8888888888888888,
              "#fdca26"
             ],
             [
              1,
              "#f0f921"
             ]
            ],
            "type": "histogram2d"
           }
          ],
          "histogram2dcontour": [
           {
            "colorbar": {
             "outlinewidth": 0,
             "ticks": ""
            },
            "colorscale": [
             [
              0,
              "#0d0887"
             ],
             [
              0.1111111111111111,
              "#46039f"
             ],
             [
              0.2222222222222222,
              "#7201a8"
             ],
             [
              0.3333333333333333,
              "#9c179e"
             ],
             [
              0.4444444444444444,
              "#bd3786"
             ],
             [
              0.5555555555555556,
              "#d8576b"
             ],
             [
              0.6666666666666666,
              "#ed7953"
             ],
             [
              0.7777777777777778,
              "#fb9f3a"
             ],
             [
              0.8888888888888888,
              "#fdca26"
             ],
             [
              1,
              "#f0f921"
             ]
            ],
            "type": "histogram2dcontour"
           }
          ],
          "mesh3d": [
           {
            "colorbar": {
             "outlinewidth": 0,
             "ticks": ""
            },
            "type": "mesh3d"
           }
          ],
          "parcoords": [
           {
            "line": {
             "colorbar": {
              "outlinewidth": 0,
              "ticks": ""
             }
            },
            "type": "parcoords"
           }
          ],
          "pie": [
           {
            "automargin": true,
            "type": "pie"
           }
          ],
          "scatter": [
           {
            "fillpattern": {
             "fillmode": "overlay",
             "size": 10,
             "solidity": 0.2
            },
            "type": "scatter"
           }
          ],
          "scatter3d": [
           {
            "line": {
             "colorbar": {
              "outlinewidth": 0,
              "ticks": ""
             }
            },
            "marker": {
             "colorbar": {
              "outlinewidth": 0,
              "ticks": ""
             }
            },
            "type": "scatter3d"
           }
          ],
          "scattercarpet": [
           {
            "marker": {
             "colorbar": {
              "outlinewidth": 0,
              "ticks": ""
             }
            },
            "type": "scattercarpet"
           }
          ],
          "scattergeo": [
           {
            "marker": {
             "colorbar": {
              "outlinewidth": 0,
              "ticks": ""
             }
            },
            "type": "scattergeo"
           }
          ],
          "scattergl": [
           {
            "marker": {
             "colorbar": {
              "outlinewidth": 0,
              "ticks": ""
             }
            },
            "type": "scattergl"
           }
          ],
          "scattermap": [
           {
            "marker": {
             "colorbar": {
              "outlinewidth": 0,
              "ticks": ""
             }
            },
            "type": "scattermap"
           }
          ],
          "scattermapbox": [
           {
            "marker": {
             "colorbar": {
              "outlinewidth": 0,
              "ticks": ""
             }
            },
            "type": "scattermapbox"
           }
          ],
          "scatterpolar": [
           {
            "marker": {
             "colorbar": {
              "outlinewidth": 0,
              "ticks": ""
             }
            },
            "type": "scatterpolar"
           }
          ],
          "scatterpolargl": [
           {
            "marker": {
             "colorbar": {
              "outlinewidth": 0,
              "ticks": ""
             }
            },
            "type": "scatterpolargl"
           }
          ],
          "scatterternary": [
           {
            "marker": {
             "colorbar": {
              "outlinewidth": 0,
              "ticks": ""
             }
            },
            "type": "scatterternary"
           }
          ],
          "surface": [
           {
            "colorbar": {
             "outlinewidth": 0,
             "ticks": ""
            },
            "colorscale": [
             [
              0,
              "#0d0887"
             ],
             [
              0.1111111111111111,
              "#46039f"
             ],
             [
              0.2222222222222222,
              "#7201a8"
             ],
             [
              0.3333333333333333,
              "#9c179e"
             ],
             [
              0.4444444444444444,
              "#bd3786"
             ],
             [
              0.5555555555555556,
              "#d8576b"
             ],
             [
              0.6666666666666666,
              "#ed7953"
             ],
             [
              0.7777777777777778,
              "#fb9f3a"
             ],
             [
              0.8888888888888888,
              "#fdca26"
             ],
             [
              1,
              "#f0f921"
             ]
            ],
            "type": "surface"
           }
          ],
          "table": [
           {
            "cells": {
             "fill": {
              "color": "#EBF0F8"
             },
             "line": {
              "color": "white"
             }
            },
            "header": {
             "fill": {
              "color": "#C8D4E3"
             },
             "line": {
              "color": "white"
             }
            },
            "type": "table"
           }
          ]
         },
         "layout": {
          "annotationdefaults": {
           "arrowcolor": "#2a3f5f",
           "arrowhead": 0,
           "arrowwidth": 1
          },
          "autotypenumbers": "strict",
          "coloraxis": {
           "colorbar": {
            "outlinewidth": 0,
            "ticks": ""
           }
          },
          "colorscale": {
           "diverging": [
            [
             0,
             "#8e0152"
            ],
            [
             0.1,
             "#c51b7d"
            ],
            [
             0.2,
             "#de77ae"
            ],
            [
             0.3,
             "#f1b6da"
            ],
            [
             0.4,
             "#fde0ef"
            ],
            [
             0.5,
             "#f7f7f7"
            ],
            [
             0.6,
             "#e6f5d0"
            ],
            [
             0.7,
             "#b8e186"
            ],
            [
             0.8,
             "#7fbc41"
            ],
            [
             0.9,
             "#4d9221"
            ],
            [
             1,
             "#276419"
            ]
           ],
           "sequential": [
            [
             0,
             "#0d0887"
            ],
            [
             0.1111111111111111,
             "#46039f"
            ],
            [
             0.2222222222222222,
             "#7201a8"
            ],
            [
             0.3333333333333333,
             "#9c179e"
            ],
            [
             0.4444444444444444,
             "#bd3786"
            ],
            [
             0.5555555555555556,
             "#d8576b"
            ],
            [
             0.6666666666666666,
             "#ed7953"
            ],
            [
             0.7777777777777778,
             "#fb9f3a"
            ],
            [
             0.8888888888888888,
             "#fdca26"
            ],
            [
             1,
             "#f0f921"
            ]
           ],
           "sequentialminus": [
            [
             0,
             "#0d0887"
            ],
            [
             0.1111111111111111,
             "#46039f"
            ],
            [
             0.2222222222222222,
             "#7201a8"
            ],
            [
             0.3333333333333333,
             "#9c179e"
            ],
            [
             0.4444444444444444,
             "#bd3786"
            ],
            [
             0.5555555555555556,
             "#d8576b"
            ],
            [
             0.6666666666666666,
             "#ed7953"
            ],
            [
             0.7777777777777778,
             "#fb9f3a"
            ],
            [
             0.8888888888888888,
             "#fdca26"
            ],
            [
             1,
             "#f0f921"
            ]
           ]
          },
          "colorway": [
           "#636efa",
           "#EF553B",
           "#00cc96",
           "#ab63fa",
           "#FFA15A",
           "#19d3f3",
           "#FF6692",
           "#B6E880",
           "#FF97FF",
           "#FECB52"
          ],
          "font": {
           "color": "#2a3f5f"
          },
          "geo": {
           "bgcolor": "white",
           "lakecolor": "white",
           "landcolor": "#E5ECF6",
           "showlakes": true,
           "showland": true,
           "subunitcolor": "white"
          },
          "hoverlabel": {
           "align": "left"
          },
          "hovermode": "closest",
          "mapbox": {
           "style": "light"
          },
          "paper_bgcolor": "white",
          "plot_bgcolor": "#E5ECF6",
          "polar": {
           "angularaxis": {
            "gridcolor": "white",
            "linecolor": "white",
            "ticks": ""
           },
           "bgcolor": "#E5ECF6",
           "radialaxis": {
            "gridcolor": "white",
            "linecolor": "white",
            "ticks": ""
           }
          },
          "scene": {
           "xaxis": {
            "backgroundcolor": "#E5ECF6",
            "gridcolor": "white",
            "gridwidth": 2,
            "linecolor": "white",
            "showbackground": true,
            "ticks": "",
            "zerolinecolor": "white"
           },
           "yaxis": {
            "backgroundcolor": "#E5ECF6",
            "gridcolor": "white",
            "gridwidth": 2,
            "linecolor": "white",
            "showbackground": true,
            "ticks": "",
            "zerolinecolor": "white"
           },
           "zaxis": {
            "backgroundcolor": "#E5ECF6",
            "gridcolor": "white",
            "gridwidth": 2,
            "linecolor": "white",
            "showbackground": true,
            "ticks": "",
            "zerolinecolor": "white"
           }
          },
          "shapedefaults": {
           "line": {
            "color": "#2a3f5f"
           }
          },
          "ternary": {
           "aaxis": {
            "gridcolor": "white",
            "linecolor": "white",
            "ticks": ""
           },
           "baxis": {
            "gridcolor": "white",
            "linecolor": "white",
            "ticks": ""
           },
           "bgcolor": "#E5ECF6",
           "caxis": {
            "gridcolor": "white",
            "linecolor": "white",
            "ticks": ""
           }
          },
          "title": {
           "x": 0.05
          },
          "xaxis": {
           "automargin": true,
           "gridcolor": "white",
           "linecolor": "white",
           "ticks": "",
           "title": {
            "standoff": 15
           },
           "zerolinecolor": "white",
           "zerolinewidth": 2
          },
          "yaxis": {
           "automargin": true,
           "gridcolor": "white",
           "linecolor": "white",
           "ticks": "",
           "title": {
            "standoff": 15
           },
           "zerolinecolor": "white",
           "zerolinewidth": 2
          }
         }
        },
        "title": {
         "text": "2D Chroma Vector Store Visualization"
        },
        "width": 800
       }
      }
     },
     "metadata": {},
     "output_type": "display_data"
    }
   ],
   "source": [
    "# Reduce the dimensionality of the vectors to 2D using t-SNE\n",
    "# (t-distributed stochastic neighbor embedding)\n",
    "\n",
    "tsne = TSNE(n_components=2, random_state=42)\n",
    "reduced_vectors = tsne.fit_transform(vectors)\n",
    "\n",
    "# Create the 2D scatter plot\n",
    "fig = go.Figure(data=[go.Scatter(\n",
    "    x=reduced_vectors[:, 0],\n",
    "    y=reduced_vectors[:, 1],\n",
    "    mode='markers',\n",
    "    marker=dict(size=5, color=colors, opacity=0.8),\n",
    "    text=[f\"Type: {t}<br>Text: {d[:100]}...\" for t, d in zip(doc_types, documents)],\n",
    "    hoverinfo='text'\n",
    ")])\n",
    "\n",
    "fig.update_layout(\n",
    "    title='2D Chroma Vector Store Visualization',\n",
    "    scene=dict(xaxis_title='x',yaxis_title='y'),\n",
    "    width=800,\n",
    "    height=600,\n",
    "    margin=dict(r=20, b=10, l=10, t=40)\n",
    ")\n",
    "\n",
    "fig.show()"
   ]
  },
  {
   "cell_type": "code",
   "execution_count": null,
   "id": "f45d4964",
   "metadata": {},
   "outputs": [
    {
     "name": "stdout",
     "output_type": "stream",
     "text": [
      "{'chat_history': []}\n",
      "chat_memory=InMemoryChatMessageHistory(messages=[]) return_messages=True memory_key='chat_history'\n"
     ]
    }
   ],
   "source": [
    "# create a new Chat with OpenAIu\n",
    "from langchain_google_genai import ChatGoogleGenerativeAI\n",
    "\n",
    "llm = ChatGoogleGenerativeAI(\n",
    "    model=\"gemini-2.5-flash\",\n",
    "    temperature=1,\n",
    "    # max_tokens=None,\n",
    "    # timeout=None,\n",
    "    max_retries=2,\n",
    "    \n",
    "    # other params...\n",
    ")\n",
    "\n"
   ]
  },
  {
   "cell_type": "code",
   "execution_count": 68,
   "id": "7fc6f453",
   "metadata": {},
   "outputs": [],
   "source": [
    "from langchain_core.callbacks import StdOutCallbackHandler\n",
    "# set up a new conversation memory for the chat\n",
    "memory = ConversationBufferMemory(memory_key='chat_history', return_messages=True)\n",
    "\n",
    "# the retriever is an abstraction over the VectorStore that will be used during RAG\n",
    "retriever = vectorstore.as_retriever(search_kwargs={\"k\": 20})\n",
    "\n",
    "# putting it together: set up the conversation chain with the  gemini-2.5-flash LLM, the vector store and memory\n",
    "conversation_chain = ConversationalRetrievalChain.from_llm(llm=llm, retriever=retriever, memory=memory,callbacks=[StdOutCallbackHandler()])"
   ]
  },
  {
   "cell_type": "code",
   "execution_count": 71,
   "id": "a248b6ba",
   "metadata": {},
   "outputs": [
    {
     "name": "stdout",
     "output_type": "stream",
     "text": [
      "* Running on local URL:  http://127.0.0.1:7861\n",
      "* To create a public link, set `share=True` in `launch()`.\n"
     ]
    },
    {
     "data": {
      "text/html": [
       "<div><iframe src=\"http://127.0.0.1:7861/\" width=\"100%\" height=\"500\" allow=\"autoplay; camera; microphone; clipboard-read; clipboard-write;\" frameborder=\"0\" allowfullscreen></iframe></div>"
      ],
      "text/plain": [
       "<IPython.core.display.HTML object>"
      ]
     },
     "metadata": {},
     "output_type": "display_data"
    }
   ],
   "source": [
    "# Wrapping in a function - note that history isn't used, as the memory is in the conversation_chain\n",
    "\n",
    "def chat(message, history):\n",
    "    result = conversation_chain.invoke({\"question\": message})\n",
    "    return result[\"answer\"]\n",
    "\n",
    "\n",
    "# chat(\"Who won the final match?\", [])\n",
    "view = gr.ChatInterface(chat, type=\"messages\").launch(inbrowser=True)"
   ]
  }
 ],
 "metadata": {
  "kernelspec": {
   "display_name": "llms",
   "language": "python",
   "name": "python3"
  },
  "language_info": {
   "codemirror_mode": {
    "name": "ipython",
    "version": 3
   },
   "file_extension": ".py",
   "mimetype": "text/x-python",
   "name": "python",
   "nbconvert_exporter": "python",
   "pygments_lexer": "ipython3",
   "version": "3.11.13"
  }
 },
 "nbformat": 4,
 "nbformat_minor": 5
}
